{
 "cells": [
  {
   "cell_type": "code",
   "execution_count": 1,
   "metadata": {},
   "outputs": [
    {
     "name": "stderr",
     "output_type": "stream",
     "text": [
      "D:\\anacondasetup\\lib\\site-packages\\sklearn\\utils\\fixes.py:313: FutureWarning: numpy not_equal will not check object identity in the future. The comparison did not return the same result as suggested by the identity (`is`)) and will change.\n",
      "  _nan_object_mask = _nan_object_array != _nan_object_array\n"
     ]
    }
   ],
   "source": [
    "from sklearn.model_selection import train_test_split\n",
    "from sklearn.neighbors import KNeighborsClassifier\n",
    "from sklearn.metrics import accuracy_score\n",
    "from sklearn.linear_model import LogisticRegression\n",
    "from sklearn.naive_bayes import GaussianNB\n",
    "from sklearn.naive_bayes import MultinomialNB\n",
    "from sklearn.metrics import confusion_matrix\n",
    "from sklearn.preprocessing import normalize\n",
    "from sklearn.feature_extraction.text import TfidfVectorizer\n",
    "from sklearn.feature_extraction.text import CountVectorizer\n",
    "from sklearn.linear_model import LinearRegression\n",
    "from sklearn.svm import LinearSVC\n",
    "from sklearn.tree import DecisionTreeClassifier\n",
    "from sklearn.ensemble import RandomForestClassifier, AdaBoostClassifier\n",
    "from sklearn.neural_network import MLPClassifier\n",
    "from sklearn.discriminant_analysis import QuadraticDiscriminantAnalysis\n",
    "from sklearn.metrics import precision_score, recall_score, f1_score, roc_auc_score, accuracy_score, classification_report\n",
    "from sklearn.pipeline import make_pipeline\n",
    "from imblearn.pipeline import make_pipeline as make_pipeline_imb\n",
    "from imblearn.over_sampling import SMOTE\n",
    "from imblearn.under_sampling import NearMiss\n",
    "from imblearn.metrics import classification_report_imbalanced\n",
    "from imblearn.datasets import fetch_datasets\n",
    "from collections import defaultdict\n",
    "from collections import Counter\n",
    "from sklearn import metrics\n",
    "\n",
    "import sklearn as sk\n",
    "import pandas as pd\n",
    "from pandas import Series\n",
    "import numpy as np\n",
    "import csv\n",
    "import matplotlib.pyplot as plt\n",
    "%matplotlib inline"
   ]
  },
  {
   "cell_type": "code",
   "execution_count": 2,
   "metadata": {},
   "outputs": [],
   "source": [
    "# read file into pandas from the working directory\n",
    "df= pd.read_csv('mozilla.csv', header=None, names=['Bug ID','Severity','Summary'])"
   ]
  },
  {
   "cell_type": "code",
   "execution_count": 3,
   "metadata": {},
   "outputs": [
    {
     "data": {
      "text/plain": [
       "(2301, 3)"
      ]
     },
     "execution_count": 3,
     "metadata": {},
     "output_type": "execute_result"
    }
   ],
   "source": [
    "# examine the shape\n",
    "df.shape"
   ]
  },
  {
   "cell_type": "code",
   "execution_count": 4,
   "metadata": {},
   "outputs": [
    {
     "data": {
      "text/html": [
       "<div>\n",
       "<style scoped>\n",
       "    .dataframe tbody tr th:only-of-type {\n",
       "        vertical-align: middle;\n",
       "    }\n",
       "\n",
       "    .dataframe tbody tr th {\n",
       "        vertical-align: top;\n",
       "    }\n",
       "\n",
       "    .dataframe thead th {\n",
       "        text-align: right;\n",
       "    }\n",
       "</style>\n",
       "<table border=\"1\" class=\"dataframe\">\n",
       "  <thead>\n",
       "    <tr style=\"text-align: right;\">\n",
       "      <th></th>\n",
       "      <th>Bug ID</th>\n",
       "      <th>Severity</th>\n",
       "      <th>Summary</th>\n",
       "    </tr>\n",
       "  </thead>\n",
       "  <tbody>\n",
       "    <tr>\n",
       "      <th>0</th>\n",
       "      <td>413749</td>\n",
       "      <td>severe</td>\n",
       "      <td>Missing GenerateJava.emtl file in modisco java...</td>\n",
       "    </tr>\n",
       "    <tr>\n",
       "      <th>1</th>\n",
       "      <td>467000</td>\n",
       "      <td>severe</td>\n",
       "      <td>[Popup Menu] Too many refreshes when building ...</td>\n",
       "    </tr>\n",
       "    <tr>\n",
       "      <th>2</th>\n",
       "      <td>280999</td>\n",
       "      <td>severe</td>\n",
       "      <td>Symbolic Folder Links, Editor uses absolute ca...</td>\n",
       "    </tr>\n",
       "    <tr>\n",
       "      <th>3</th>\n",
       "      <td>192802</td>\n",
       "      <td>severe</td>\n",
       "      <td>Resolving Proxies  using the Transactional API</td>\n",
       "    </tr>\n",
       "    <tr>\n",
       "      <th>4</th>\n",
       "      <td>515596</td>\n",
       "      <td>severe</td>\n",
       "      <td>download.eclipse.org timeouts</td>\n",
       "    </tr>\n",
       "    <tr>\n",
       "      <th>5</th>\n",
       "      <td>334881</td>\n",
       "      <td>non-severe</td>\n",
       "      <td>Stackoverflow when auto-completing an exception.</td>\n",
       "    </tr>\n",
       "    <tr>\n",
       "      <th>6</th>\n",
       "      <td>127835</td>\n",
       "      <td>non-severe</td>\n",
       "      <td>ECore sample: Represent EReference with specif...</td>\n",
       "    </tr>\n",
       "    <tr>\n",
       "      <th>7</th>\n",
       "      <td>269347</td>\n",
       "      <td>non-severe</td>\n",
       "      <td>No Code Assist launched after a dot operator.</td>\n",
       "    </tr>\n",
       "    <tr>\n",
       "      <th>8</th>\n",
       "      <td>272089</td>\n",
       "      <td>non-severe</td>\n",
       "      <td>[theme] improve the usability of focusing</td>\n",
       "    </tr>\n",
       "    <tr>\n",
       "      <th>9</th>\n",
       "      <td>220870</td>\n",
       "      <td>non-severe</td>\n",
       "      <td>Provide a JFace viewer for MonthCalendar</td>\n",
       "    </tr>\n",
       "  </tbody>\n",
       "</table>\n",
       "</div>"
      ],
      "text/plain": [
       "   Bug ID    Severity                                            Summary\n",
       "0  413749      severe  Missing GenerateJava.emtl file in modisco java...\n",
       "1  467000      severe  [Popup Menu] Too many refreshes when building ...\n",
       "2  280999      severe  Symbolic Folder Links, Editor uses absolute ca...\n",
       "3  192802      severe     Resolving Proxies  using the Transactional API\n",
       "4  515596      severe                      download.eclipse.org timeouts\n",
       "5  334881  non-severe   Stackoverflow when auto-completing an exception.\n",
       "6  127835  non-severe  ECore sample: Represent EReference with specif...\n",
       "7  269347  non-severe      No Code Assist launched after a dot operator.\n",
       "8  272089  non-severe          [theme] improve the usability of focusing\n",
       "9  220870  non-severe           Provide a JFace viewer for MonthCalendar"
      ]
     },
     "execution_count": 4,
     "metadata": {},
     "output_type": "execute_result"
    }
   ],
   "source": [
    "# examine the first 10 rows\n",
    "df.head(10)"
   ]
  },
  {
   "cell_type": "code",
   "execution_count": 5,
   "metadata": {},
   "outputs": [
    {
     "data": {
      "text/html": [
       "<div>\n",
       "<style scoped>\n",
       "    .dataframe tbody tr th:only-of-type {\n",
       "        vertical-align: middle;\n",
       "    }\n",
       "\n",
       "    .dataframe tbody tr th {\n",
       "        vertical-align: top;\n",
       "    }\n",
       "\n",
       "    .dataframe thead th {\n",
       "        text-align: right;\n",
       "    }\n",
       "</style>\n",
       "<table border=\"1\" class=\"dataframe\">\n",
       "  <thead>\n",
       "    <tr style=\"text-align: right;\">\n",
       "      <th></th>\n",
       "      <th>Bug ID</th>\n",
       "      <th>Severity</th>\n",
       "      <th>Summary</th>\n",
       "    </tr>\n",
       "  </thead>\n",
       "  <tbody>\n",
       "    <tr>\n",
       "      <th>0</th>\n",
       "      <td>413749</td>\n",
       "      <td>severe</td>\n",
       "      <td>Missing GenerateJava.emtl file in modisco java...</td>\n",
       "    </tr>\n",
       "    <tr>\n",
       "      <th>1</th>\n",
       "      <td>467000</td>\n",
       "      <td>severe</td>\n",
       "      <td>[Popup Menu] Too many refreshes when building ...</td>\n",
       "    </tr>\n",
       "    <tr>\n",
       "      <th>2</th>\n",
       "      <td>280999</td>\n",
       "      <td>severe</td>\n",
       "      <td>Symbolic Folder Links, Editor uses absolute ca...</td>\n",
       "    </tr>\n",
       "    <tr>\n",
       "      <th>3</th>\n",
       "      <td>192802</td>\n",
       "      <td>severe</td>\n",
       "      <td>Resolving Proxies  using the Transactional API</td>\n",
       "    </tr>\n",
       "    <tr>\n",
       "      <th>4</th>\n",
       "      <td>515596</td>\n",
       "      <td>severe</td>\n",
       "      <td>download.eclipse.org timeouts</td>\n",
       "    </tr>\n",
       "  </tbody>\n",
       "</table>\n",
       "</div>"
      ],
      "text/plain": [
       "   Bug ID Severity                                            Summary\n",
       "0  413749   severe  Missing GenerateJava.emtl file in modisco java...\n",
       "1  467000   severe  [Popup Menu] Too many refreshes when building ...\n",
       "2  280999   severe  Symbolic Folder Links, Editor uses absolute ca...\n",
       "3  192802   severe     Resolving Proxies  using the Transactional API\n",
       "4  515596   severe                      download.eclipse.org timeouts"
      ]
     },
     "execution_count": 5,
     "metadata": {},
     "output_type": "execute_result"
    }
   ],
   "source": [
    "df.head(5)"
   ]
  },
  {
   "cell_type": "code",
   "execution_count": 6,
   "metadata": {},
   "outputs": [
    {
     "data": {
      "text/plain": [
       "non-severe    2077\n",
       "severe         224\n",
       "Name: Severity, dtype: int64"
      ]
     },
     "execution_count": 6,
     "metadata": {},
     "output_type": "execute_result"
    }
   ],
   "source": [
    "# examine the class distribution\n",
    "df.Severity.value_counts()"
   ]
  },
  {
   "cell_type": "code",
   "execution_count": 7,
   "metadata": {},
   "outputs": [],
   "source": [
    "# convert label to a numerical variable\n",
    "df['severity_num'] = df.Severity.map({'non-severe':0, 'severe':1})"
   ]
  },
  {
   "cell_type": "code",
   "execution_count": 8,
   "metadata": {},
   "outputs": [
    {
     "data": {
      "text/html": [
       "<div>\n",
       "<style scoped>\n",
       "    .dataframe tbody tr th:only-of-type {\n",
       "        vertical-align: middle;\n",
       "    }\n",
       "\n",
       "    .dataframe tbody tr th {\n",
       "        vertical-align: top;\n",
       "    }\n",
       "\n",
       "    .dataframe thead th {\n",
       "        text-align: right;\n",
       "    }\n",
       "</style>\n",
       "<table border=\"1\" class=\"dataframe\">\n",
       "  <thead>\n",
       "    <tr style=\"text-align: right;\">\n",
       "      <th></th>\n",
       "      <th>Bug ID</th>\n",
       "      <th>Severity</th>\n",
       "      <th>Summary</th>\n",
       "      <th>severity_num</th>\n",
       "    </tr>\n",
       "  </thead>\n",
       "  <tbody>\n",
       "    <tr>\n",
       "      <th>0</th>\n",
       "      <td>413749</td>\n",
       "      <td>severe</td>\n",
       "      <td>Missing GenerateJava.emtl file in modisco java...</td>\n",
       "      <td>1</td>\n",
       "    </tr>\n",
       "    <tr>\n",
       "      <th>1</th>\n",
       "      <td>467000</td>\n",
       "      <td>severe</td>\n",
       "      <td>[Popup Menu] Too many refreshes when building ...</td>\n",
       "      <td>1</td>\n",
       "    </tr>\n",
       "    <tr>\n",
       "      <th>2</th>\n",
       "      <td>280999</td>\n",
       "      <td>severe</td>\n",
       "      <td>Symbolic Folder Links, Editor uses absolute ca...</td>\n",
       "      <td>1</td>\n",
       "    </tr>\n",
       "    <tr>\n",
       "      <th>3</th>\n",
       "      <td>192802</td>\n",
       "      <td>severe</td>\n",
       "      <td>Resolving Proxies  using the Transactional API</td>\n",
       "      <td>1</td>\n",
       "    </tr>\n",
       "    <tr>\n",
       "      <th>4</th>\n",
       "      <td>515596</td>\n",
       "      <td>severe</td>\n",
       "      <td>download.eclipse.org timeouts</td>\n",
       "      <td>1</td>\n",
       "    </tr>\n",
       "  </tbody>\n",
       "</table>\n",
       "</div>"
      ],
      "text/plain": [
       "   Bug ID Severity                                            Summary  \\\n",
       "0  413749   severe  Missing GenerateJava.emtl file in modisco java...   \n",
       "1  467000   severe  [Popup Menu] Too many refreshes when building ...   \n",
       "2  280999   severe  Symbolic Folder Links, Editor uses absolute ca...   \n",
       "3  192802   severe     Resolving Proxies  using the Transactional API   \n",
       "4  515596   severe                      download.eclipse.org timeouts   \n",
       "\n",
       "   severity_num  \n",
       "0             1  \n",
       "1             1  \n",
       "2             1  \n",
       "3             1  \n",
       "4             1  "
      ]
     },
     "execution_count": 8,
     "metadata": {},
     "output_type": "execute_result"
    }
   ],
   "source": [
    "df.head(5)"
   ]
  },
  {
   "cell_type": "code",
   "execution_count": 9,
   "metadata": {},
   "outputs": [
    {
     "name": "stdout",
     "output_type": "stream",
     "text": [
      "(2301,)\n",
      "(2301,)\n"
     ]
    }
   ],
   "source": [
    "# how to define X and y (from the eclipse data) for use with COUNTVECTORIZER\n",
    "X= df.Summary\n",
    "y = df.severity_num\n",
    "print(X.shape)\n",
    "print(y.shape)"
   ]
  },
  {
   "cell_type": "code",
   "execution_count": 10,
   "metadata": {},
   "outputs": [
    {
     "name": "stdout",
     "output_type": "stream",
     "text": [
      "(1725,)\n",
      "(576,)\n",
      "(1725,)\n",
      "(576,)\n"
     ]
    }
   ],
   "source": [
    "# split X and y into training and testing sets\n",
    "from sklearn.model_selection import train_test_split\n",
    "X_train, X_test, y_train, y_test = train_test_split(X, y, random_state=1)\n",
    "X_train=X_train.dropna(how='any',axis=0) \n",
    "y_train = y_train.dropna(how='any',axis=0) \n",
    "print(X_train.shape)\n",
    "print(X_test.shape)\n",
    "print(y_train.shape)\n",
    "print(y_test.shape)"
   ]
  },
  {
   "cell_type": "code",
   "execution_count": 11,
   "metadata": {},
   "outputs": [],
   "source": [
    "# instantiate the vectorizer\n",
    "vect = CountVectorizer()"
   ]
  },
  {
   "cell_type": "code",
   "execution_count": 12,
   "metadata": {},
   "outputs": [],
   "source": [
    "# learn training data vocabulary, then use it to create a document-term matrix\n",
    "vect.fit(X_train)\n",
    "X_train_dtm = vect.transform(X_train)"
   ]
  },
  {
   "cell_type": "code",
   "execution_count": 13,
   "metadata": {},
   "outputs": [],
   "source": [
    "# equivalently: combine fit and transform into a single step\n",
    "X_train_dtm = vect.fit_transform(X_train)"
   ]
  },
  {
   "cell_type": "code",
   "execution_count": 14,
   "metadata": {},
   "outputs": [
    {
     "data": {
      "text/plain": [
       "<1725x3650 sparse matrix of type '<class 'numpy.int64'>'\n",
       "\twith 15010 stored elements in Compressed Sparse Row format>"
      ]
     },
     "execution_count": 14,
     "metadata": {},
     "output_type": "execute_result"
    }
   ],
   "source": [
    "# examine the document-term matrix\n",
    "X_train_dtm"
   ]
  },
  {
   "cell_type": "code",
   "execution_count": 15,
   "metadata": {},
   "outputs": [
    {
     "data": {
      "text/plain": [
       "<576x3650 sparse matrix of type '<class 'numpy.int64'>'\n",
       "\twith 4437 stored elements in Compressed Sparse Row format>"
      ]
     },
     "execution_count": 15,
     "metadata": {},
     "output_type": "execute_result"
    }
   ],
   "source": [
    "# transform testing data (using fitted vocabulary) into a document-term matrix\n",
    "X_test_dtm = vect.transform(X_test)\n",
    "X_test_dtm"
   ]
  },
  {
   "cell_type": "code",
   "execution_count": 16,
   "metadata": {},
   "outputs": [],
   "source": [
    "# import and instantiate a Multinomial Naive Bayes model\n",
    "from sklearn.naive_bayes import MultinomialNB\n",
    "nb = MultinomialNB()"
   ]
  },
  {
   "cell_type": "code",
   "execution_count": 17,
   "metadata": {},
   "outputs": [
    {
     "name": "stdout",
     "output_type": "stream",
     "text": [
      "Wall time: 0 ns\n"
     ]
    },
    {
     "data": {
      "text/plain": [
       "MultinomialNB(alpha=1.0, class_prior=None, fit_prior=True)"
      ]
     },
     "execution_count": 17,
     "metadata": {},
     "output_type": "execute_result"
    }
   ],
   "source": [
    "# train the model using X_train_dtm (timing it with an IPython \"magic command\")\n",
    "%time nb.fit(X_train_dtm, y_train)"
   ]
  },
  {
   "cell_type": "code",
   "execution_count": 18,
   "metadata": {},
   "outputs": [],
   "source": [
    "# make class predictions for X_test_dtm\n",
    "y_pred_class = nb.predict(X_test_dtm)"
   ]
  },
  {
   "cell_type": "code",
   "execution_count": 19,
   "metadata": {
    "scrolled": false
   },
   "outputs": [
    {
     "data": {
      "text/plain": [
       "0.91666666666666663"
      ]
     },
     "execution_count": 19,
     "metadata": {},
     "output_type": "execute_result"
    }
   ],
   "source": [
    "# calculate accuracy of class predictions\n",
    "from sklearn.metrics import accuracy_score\n",
    "metrics.accuracy_score(y_test, y_pred_class)"
   ]
  },
  {
   "cell_type": "code",
   "execution_count": 20,
   "metadata": {},
   "outputs": [
    {
     "data": {
      "text/plain": [
       "array([[528,   2],\n",
       "       [ 46,   0]], dtype=int64)"
      ]
     },
     "execution_count": 20,
     "metadata": {},
     "output_type": "execute_result"
    }
   ],
   "source": [
    "# print the confusion matrix\n",
    "metrics.confusion_matrix(y_test, y_pred_class)"
   ]
  },
  {
   "cell_type": "code",
   "execution_count": 21,
   "metadata": {},
   "outputs": [
    {
     "data": {
      "text/plain": [
       "1310    GC.setAdvanced(false) unexpectedly resets clip...\n",
       "2127    Improve incremental building on some circumsta...\n",
       "Name: Summary, dtype: object"
      ]
     },
     "execution_count": 21,
     "metadata": {},
     "output_type": "execute_result"
    }
   ],
   "source": [
    "# print message text for the false positives (non-severe incorrectly classified as severe)\n",
    "X_test[y_test < y_pred_class]"
   ]
  },
  {
   "cell_type": "code",
   "execution_count": 22,
   "metadata": {},
   "outputs": [
    {
     "data": {
      "text/plain": [
       "array([  1.71276262e-02,   1.15629504e-02,   1.77921303e-02,\n",
       "         8.58149794e-04,   3.97066422e-03,   3.01475224e-03,\n",
       "         8.65126256e-02,   2.98420320e-02,   8.69817294e-05,\n",
       "         2.00211061e-04,   4.61773010e-03,   7.55061821e-07,\n",
       "         6.43208660e-03,   1.47060879e-02,   2.58370226e-04,\n",
       "         3.21525348e-05,   1.60646138e-02,   8.73805697e-04,\n",
       "         2.84520993e-04,   8.12790311e-04,   1.82327004e-03,\n",
       "         4.67573851e-01,   1.04616893e-02,   1.04494068e-03,\n",
       "         2.70719080e-03,   3.82144428e-03,   4.58451719e-05,\n",
       "         1.26847038e-03,   7.96333734e-03,   9.47782405e-03,\n",
       "         4.82064950e-03,   2.90441013e-03,   3.38289207e-04,\n",
       "         5.30398614e-03,   1.43723048e-03,   3.52970129e-03,\n",
       "         1.25426581e-05,   4.95426927e-02,   1.08189689e-02,\n",
       "         5.42379389e-02,   1.29968314e-03,   9.05350885e-03,\n",
       "         6.76301775e-03,   1.66238821e-03,   3.89967231e-07,\n",
       "         8.97159995e-03,   5.09071541e-08,   2.37027483e-04,\n",
       "         7.61214627e-04,   7.90835199e-04,   3.41505368e-03,\n",
       "         1.33864136e-01,   1.09226851e-01,   2.89685057e-02,\n",
       "         6.97501877e-03,   1.21286641e-01,   2.47862809e-03,\n",
       "         2.41405437e-02,   5.84309413e-05,   3.48071990e-02,\n",
       "         2.41308734e-03,   4.18480196e-05,   2.99903771e-04,\n",
       "         1.24473691e-04,   6.05612528e-04,   7.93715201e-03,\n",
       "         1.32552788e-02,   1.68337748e-04,   3.20500314e-01,\n",
       "         4.75914765e-04,   5.33915472e-03,   2.28124853e-01,\n",
       "         3.91745297e-02,   6.02301069e-03,   7.27524559e-04,\n",
       "         8.27905134e-03,   3.40617315e-03,   1.39619464e-04,\n",
       "         3.47506453e-02,   8.11588457e-04,   1.97446972e-01,\n",
       "         7.71284586e-02,   8.19022324e-04,   2.05000423e-02,\n",
       "         1.25930228e-02,   8.69011336e-03,   1.25231602e-05,\n",
       "         1.04261919e-04,   3.86215830e-05,   4.14281932e-03,\n",
       "         1.99457501e-05,   1.20703089e-04,   9.32279592e-03,\n",
       "         4.82903795e-02,   1.43681354e-03,   1.12775370e-02,\n",
       "         1.76415461e-02,   2.08459781e-04,   8.82555269e-02,\n",
       "         3.74166804e-03,   8.29942445e-04,   3.62087171e-02,\n",
       "         8.58270798e-03,   8.41108331e-05,   2.00175029e-03,\n",
       "         2.43855386e-03,   9.34517764e-03,   4.07778055e-03,\n",
       "         2.07648567e-03,   5.93355005e-05,   6.41043610e-02,\n",
       "         1.59475584e-01,   2.91181972e-05,   9.21317234e-01,\n",
       "         2.83633980e-03,   2.24150350e-03,   8.47089820e-03,\n",
       "         7.51984880e-04,   1.13452600e-03,   9.83682071e-03,\n",
       "         1.23114739e-03,   9.76432291e-03,   1.09957606e-04,\n",
       "         3.79344551e-03,   2.30324425e-02,   1.56423957e-07,\n",
       "         7.27979094e-04,   7.50417012e-03,   1.03561722e-02,\n",
       "         3.89862328e-03,   2.67786542e-04,   8.27597521e-04,\n",
       "         6.82118950e-05,   7.47761877e-02,   3.61904071e-03,\n",
       "         4.33783572e-04,   3.21215808e-07,   2.79357885e-01,\n",
       "         9.98409443e-05,   1.69514964e-02,   4.53428119e-02,\n",
       "         9.21228283e-02,   8.59438868e-02,   1.61667464e-03,\n",
       "         3.93296442e-03,   9.84236563e-06,   7.81305141e-02,\n",
       "         1.58531158e-03,   8.24235098e-06,   1.05325375e-03,\n",
       "         1.10301839e-02,   1.36542589e-02,   2.36859733e-06,\n",
       "         4.02486606e-04,   1.30955790e-01,   6.82894397e-05,\n",
       "         1.03072411e-02,   1.00587228e-03,   2.40336846e-02,\n",
       "         6.32807058e-02,   2.63486591e-02,   9.93099139e-04,\n",
       "         8.52475812e-03,   1.59475584e-01,   1.44353517e-04,\n",
       "         9.37050908e-02,   1.38048488e-03,   8.74983729e-04,\n",
       "         8.28003779e-04,   1.37074756e-02,   3.09276369e-02,\n",
       "         1.44852619e-03,   2.66962342e-03,   3.11986825e-04,\n",
       "         5.81278702e-05,   1.81495081e-02,   2.86141391e-04,\n",
       "         3.09616969e-02,   7.76992681e-04,   2.80910085e-03,\n",
       "         2.10441481e-03,   1.47259333e-03,   1.24602528e-04,\n",
       "         2.31512926e-04,   3.77244790e-03,   3.52111462e-05,\n",
       "         1.97539862e-04,   5.12380286e-04,   4.83483347e-02,\n",
       "         1.01792963e-04,   1.74852662e-04,   2.04175403e-02,\n",
       "         1.07616777e-02,   3.63703838e-04,   3.37493948e-02,\n",
       "         7.82597240e-06,   3.57061225e-03,   3.01332411e-01,\n",
       "         8.65200775e-03,   1.94280193e-02,   1.02675185e-05,\n",
       "         8.22368270e-03,   1.21136860e-05,   1.67767859e-04,\n",
       "         1.87959162e-04,   2.32679669e-04,   1.06848956e-03,\n",
       "         9.48708091e-02,   2.68806534e-03,   7.49503829e-03,\n",
       "         4.24445530e-02,   1.44476001e-02,   8.01583379e-04,\n",
       "         5.41628035e-04,   1.73975082e-02,   1.12506333e-02,\n",
       "         4.26692521e-03,   4.66101917e-02,   8.73900526e-05,\n",
       "         7.04958627e-08,   3.18423723e-02,   9.41971453e-02,\n",
       "         5.50112602e-02,   5.61976447e-04,   8.10342961e-07,\n",
       "         8.68789411e-03,   4.71810583e-03,   1.77827228e-03,\n",
       "         4.06533923e-02,   7.36594082e-06,   1.50785295e-05,\n",
       "         4.49586311e-03,   1.39545956e-02,   7.37778162e-03,\n",
       "         5.20859593e-04,   3.75301796e-03,   8.30689387e-04,\n",
       "         1.78767019e-03,   1.00842088e-01,   7.83117111e-05,\n",
       "         4.23825400e-04,   7.34982445e-03,   1.46777207e-01,\n",
       "         8.72295239e-03,   3.77341501e-02,   7.08296246e-03,\n",
       "         8.42873480e-04,   2.74045500e-06,   3.36776926e-04,\n",
       "         4.25408688e-02,   2.32313716e-03,   4.15169767e-05,\n",
       "         3.14497799e-02,   1.57470460e-04,   2.00599652e-03,\n",
       "         8.41976935e-03,   2.41470978e-04,   2.77746599e-03,\n",
       "         1.64179824e-02,   5.63903820e-02,   2.32951592e-05,\n",
       "         1.20979627e-02,   1.96450898e-02,   6.30371992e-02,\n",
       "         4.67863337e-05,   3.56181768e-02,   9.11832786e-03,\n",
       "         2.73039107e-04,   1.50526648e-03,   1.01995143e-05,\n",
       "         6.84799906e-04,   1.22067057e-04,   8.26921150e-04,\n",
       "         3.04274596e-02,   2.60901329e-04,   2.92526310e-02,\n",
       "         1.35812548e-02,   2.54392245e-04,   4.43496970e-02,\n",
       "         1.13666769e-05,   7.77778062e-02,   2.13740089e-06,\n",
       "         5.89634570e-02,   1.54681936e-04,   1.25724537e-03,\n",
       "         5.50351173e-06,   6.79842143e-02,   2.70204990e-01,\n",
       "         4.46627543e-04,   4.31484286e-03,   5.57518089e-04,\n",
       "         8.35521216e-06,   8.25257765e-02,   4.69392461e-02,\n",
       "         2.82302625e-03,   2.23273294e-02,   1.12598405e-04,\n",
       "         1.81359594e-04,   3.44597505e-02,   2.73627212e-02,\n",
       "         6.10258929e-03,   2.42659613e-04,   3.92126083e-04,\n",
       "         2.10167678e-04,   5.04126497e-05,   3.15867499e-05,\n",
       "         6.17531599e-03,   2.40517878e-04,   3.80703845e-01,\n",
       "         3.06067737e-04,   1.49813932e-05,   2.30039434e-03,\n",
       "         2.83235287e-04,   8.95882658e-02,   3.31901403e-03,\n",
       "         4.23607889e-03,   2.71640481e-04,   1.27686322e-03,\n",
       "         7.39632743e-03,   1.82746283e-04,   9.89033290e-04,\n",
       "         8.36487137e-04,   1.23013927e-03,   1.23978637e-04,\n",
       "         3.62072861e-06,   2.62552593e-04,   3.48807566e-02,\n",
       "         1.37984284e-04,   6.05582009e-06,   1.93647804e-05,\n",
       "         1.92996096e-03,   6.43038644e-07,   5.37192415e-05,\n",
       "         4.52432161e-02,   9.89276005e-04,   8.92520601e-04,\n",
       "         2.74349996e-03,   1.20006686e-03,   2.40126259e-02,\n",
       "         4.25336962e-04,   3.65641463e-02,   4.04139508e-03,\n",
       "         9.35322200e-03,   4.74448935e-01,   4.42575769e-03,\n",
       "         3.88866563e-01,   7.30792921e-04,   8.53208270e-05,\n",
       "         1.64950239e-02,   2.90423771e-03,   4.55110021e-06,\n",
       "         2.20517732e-02,   1.17370207e-01,   9.32057896e-03,\n",
       "         1.72548030e-04,   3.08339195e-05,   9.87680981e-02,\n",
       "         5.43671144e-02,   7.80147969e-03,   2.38952491e-05,\n",
       "         4.18563283e-03,   2.57945780e-03,   8.24996801e-04,\n",
       "         1.20509561e-01,   5.33376612e-05,   4.21624829e-03,\n",
       "         6.04834487e-03,   3.29223217e-04,   6.67160046e-02,\n",
       "         4.66187913e-04,   7.25558215e-02,   5.66243179e-04,\n",
       "         7.82392215e-04,   3.70009602e-03,   1.27289252e-03,\n",
       "         3.62517105e-04,   8.52430022e-04,   1.82334609e-02,\n",
       "         3.39351231e-05,   2.94307765e-05,   7.26209259e-04,\n",
       "         1.84228106e-03,   5.32916306e-02,   1.90351865e-02,\n",
       "         1.01089267e-02,   7.26520972e-03,   8.22421406e-03,\n",
       "         3.70821322e-03,   1.32566205e-03,   2.83292331e-02,\n",
       "         9.77053715e-03,   1.37378820e-02,   9.16361313e-04,\n",
       "         6.95714065e-04,   2.50213457e-03,   2.08186655e-02,\n",
       "         4.21545647e-02,   2.30955233e-01,   7.60680204e-02,\n",
       "         4.05616819e-03,   4.64967739e-06,   4.92002594e-04,\n",
       "         6.80292346e-03,   9.54714265e-05,   4.16519412e-02,\n",
       "         2.71452921e-02,   6.31446160e-03,   5.59078930e-03,\n",
       "         2.93023850e-02,   6.01324747e-03,   1.81259975e-06,\n",
       "         1.50987882e-01,   3.11206309e-04,   2.21619773e-03,\n",
       "         3.77330266e-03,   1.71944539e-06,   2.55393013e-03,\n",
       "         2.72874601e-02,   8.91826872e-03,   1.11974937e-02,\n",
       "         7.57935074e-04,   4.91366114e-03,   5.16230101e-05,\n",
       "         4.41310604e-05,   1.36693681e-07,   6.60040906e-03,\n",
       "         2.20903730e-02,   5.74118431e-03,   1.95993691e-04,\n",
       "         3.42925951e-03,   5.44580222e-03,   9.37850582e-02,\n",
       "         4.00836671e-03,   3.31138627e-04,   7.31836215e-05,\n",
       "         3.08635513e-03,   3.00799107e-03,   9.63124861e-04,\n",
       "         1.10269123e-06,   3.58267657e-03,   2.93576193e-05,\n",
       "         8.99782085e-05,   2.97586161e-04,   1.04143189e-03,\n",
       "         9.25283085e-07,   1.40813637e-01,   2.79666329e-10,\n",
       "         2.60649038e-01,   5.73583243e-03,   3.30768111e-03,\n",
       "         8.04088528e-03,   2.82586511e-03,   6.60902081e-03,\n",
       "         3.33459217e-03,   2.06845503e-04,   1.82686038e-01,\n",
       "         5.61682512e-05,   2.43747321e-04,   1.80182000e-03,\n",
       "         1.79414574e-07,   8.59075966e-05,   9.54864111e-03,\n",
       "         2.07831052e-05,   2.90556605e-04,   1.89117918e-04,\n",
       "         3.48135811e-02,   3.29636405e-01,   3.90770432e-04,\n",
       "         1.82444179e-02,   1.92792743e-01,   2.28193710e-03,\n",
       "         6.91361633e-04,   2.30573711e-04,   3.68311554e-02,\n",
       "         1.67330380e-02,   1.79057230e-02,   9.37986468e-04,\n",
       "         9.30765347e-07,   2.06119570e-02,   2.05985869e-05,\n",
       "         5.78928623e-02,   2.63459329e-02,   2.77837791e-02,\n",
       "         4.13371816e-02,   6.95916575e-03,   3.96382837e-03,\n",
       "         9.23322313e-03,   5.88226452e-04,   3.57457346e-03,\n",
       "         9.22101527e-05,   6.23450998e-04,   4.35452522e-03,\n",
       "         2.06836035e-01,   2.06286202e-04,   5.96486715e-05,\n",
       "         1.23393578e-03,   6.51458477e-04,   2.07995699e-03,\n",
       "         2.31646276e-02,   1.26275563e-03,   1.63603631e-02,\n",
       "         1.38532634e-02,   1.33887192e-02,   5.28594417e-02,\n",
       "         3.85785806e-02,   5.25209499e-03,   8.22487824e-02,\n",
       "         6.51977773e-03,   2.71831418e-03,   3.14726164e-03,\n",
       "         2.76905899e-04,   1.41269814e-04,   2.61601750e-03,\n",
       "         5.22021005e-04,   4.67318867e-03,   8.31514868e-02,\n",
       "         7.92967626e-03,   7.78556577e-04,   3.43673156e-04,\n",
       "         3.57596679e-05,   1.50547014e-02,   4.69272670e-03,\n",
       "         1.63298014e-05,   8.02594799e-04,   5.70884534e-02,\n",
       "         3.09276369e-02,   1.96119583e-05,   3.20761723e-04,\n",
       "         1.54629466e-02,   8.15877045e-04,   5.42555549e-02,\n",
       "         1.41243133e-03,   7.77626163e-05,   2.42238270e-04,\n",
       "         1.86934189e-04,   5.89422199e-03,   1.34123701e-04,\n",
       "         3.54966655e-04,   1.50803336e-05,   6.75730140e-03,\n",
       "         1.00165100e-02,   1.41047874e-02,   4.97514700e-02,\n",
       "         3.33646158e-02,   6.12032938e-02,   1.03188406e-01,\n",
       "         3.15989527e-04,   1.83587309e-04,   2.22576789e-03,\n",
       "         1.68474444e-04,   1.49461456e-02,   4.75292935e-06,\n",
       "         6.38351169e-01,   5.43899005e-03,   6.61200534e-04,\n",
       "         3.58567371e-03,   4.93503483e-04,   5.54567685e-03,\n",
       "         5.20981543e-03,   4.23117250e-03,   3.21609450e-02,\n",
       "         6.00261799e-02,   1.45493544e-04,   3.65165616e-04,\n",
       "         4.26548515e-02,   2.95345586e-03,   5.58651767e-05,\n",
       "         2.98248431e-03,   1.04650707e-02,   1.35261152e-04,\n",
       "         2.30506077e-02,   3.16956760e-05,   6.76452747e-04,\n",
       "         2.03910479e-01,   3.96098875e-03,   7.67337243e-02])"
      ]
     },
     "execution_count": 22,
     "metadata": {},
     "output_type": "execute_result"
    }
   ],
   "source": [
    "# calculate predicted probabilities for X_test_dtm (poorly calibrated)\n",
    "y_pred_prob = nb.predict_proba(X_test_dtm)[:, 1]\n",
    "y_pred_prob"
   ]
  },
  {
   "cell_type": "code",
   "execution_count": 23,
   "metadata": {},
   "outputs": [
    {
     "data": {
      "text/plain": [
       "0.52075471698113207"
      ]
     },
     "execution_count": 23,
     "metadata": {},
     "output_type": "execute_result"
    }
   ],
   "source": [
    "# calculate AUC\n",
    "metrics.roc_auc_score(y_test, y_pred_prob)"
   ]
  },
  {
   "cell_type": "code",
   "execution_count": 24,
   "metadata": {},
   "outputs": [],
   "source": [
    "# import and instantiate a logistic regression model\n",
    "from sklearn.linear_model import LogisticRegression\n",
    "logreg = LogisticRegression()"
   ]
  },
  {
   "cell_type": "code",
   "execution_count": 25,
   "metadata": {},
   "outputs": [
    {
     "name": "stdout",
     "output_type": "stream",
     "text": [
      "Wall time: 25.9 ms\n"
     ]
    },
    {
     "name": "stderr",
     "output_type": "stream",
     "text": [
      "D:\\anacondasetup\\lib\\site-packages\\sklearn\\linear_model\\logistic.py:432: FutureWarning: Default solver will be changed to 'lbfgs' in 0.22. Specify a solver to silence this warning.\n",
      "  FutureWarning)\n"
     ]
    },
    {
     "data": {
      "text/plain": [
       "LogisticRegression(C=1.0, class_weight=None, dual=False, fit_intercept=True,\n",
       "          intercept_scaling=1, max_iter=100, multi_class='warn',\n",
       "          n_jobs=None, penalty='l2', random_state=None, solver='warn',\n",
       "          tol=0.0001, verbose=0, warm_start=False)"
      ]
     },
     "execution_count": 25,
     "metadata": {},
     "output_type": "execute_result"
    }
   ],
   "source": [
    "# train the model using X_train_dtm\n",
    "%time logreg.fit(X_train_dtm, y_train)"
   ]
  },
  {
   "cell_type": "code",
   "execution_count": 26,
   "metadata": {},
   "outputs": [],
   "source": [
    "# make class predictions for X_test_dtm\n",
    "y_pred_class = logreg.predict(X_test_dtm)"
   ]
  },
  {
   "cell_type": "code",
   "execution_count": 27,
   "metadata": {},
   "outputs": [
    {
     "data": {
      "text/plain": [
       "array([  1.33483774e-01,   1.42980233e-01,   3.34765137e-02,\n",
       "         3.49027076e-02,   5.84913509e-02,   2.75544844e-02,\n",
       "         1.13658811e-01,   8.90016664e-02,   2.26519007e-02,\n",
       "         1.01352642e-02,   1.06327878e-01,   1.74864683e-02,\n",
       "         4.29690638e-02,   1.12248800e-01,   5.42984621e-03,\n",
       "         1.96134166e-02,   8.89146112e-02,   3.34394377e-02,\n",
       "         7.31826364e-02,   2.86232201e-02,   2.54108739e-02,\n",
       "         2.50471021e-01,   6.73869105e-02,   1.23550138e-01,\n",
       "         2.04405173e-01,   4.78363922e-02,   5.79041846e-02,\n",
       "         4.17932767e-02,   3.50054709e-02,   5.72489648e-02,\n",
       "         9.29953373e-02,   1.91395313e-01,   5.03303911e-02,\n",
       "         8.05186199e-02,   2.48256491e-02,   8.60249568e-02,\n",
       "         1.56017123e-02,   2.82117010e-01,   6.15573051e-02,\n",
       "         1.71712567e-01,   3.63807316e-02,   1.01744055e-01,\n",
       "         3.41374488e-02,   1.18646759e-01,   1.28547413e-02,\n",
       "         3.41509263e-02,   2.01391584e-03,   1.66108833e-02,\n",
       "         5.62705152e-02,   7.02407109e-02,   1.46701923e-01,\n",
       "         1.07823837e-01,   8.04578412e-02,   2.14706374e-01,\n",
       "         6.32235563e-02,   2.78214495e-01,   5.62608809e-02,\n",
       "         2.16728432e-01,   2.68488188e-02,   9.32528334e-02,\n",
       "         1.96926283e-01,   1.12731337e-02,   4.90535627e-02,\n",
       "         3.53067585e-02,   1.18097080e-02,   4.76567607e-02,\n",
       "         6.78022350e-02,   1.48786295e-02,   1.59673227e-01,\n",
       "         3.49694665e-02,   4.96264823e-02,   7.27792835e-02,\n",
       "         3.55206140e-01,   7.69845601e-02,   8.11706849e-02,\n",
       "         8.13420344e-02,   2.81750989e-01,   1.17951202e-01,\n",
       "         2.24379458e-01,   1.43004047e-02,   2.13330317e-01,\n",
       "         1.24755503e-01,   1.51742688e-01,   5.04817888e-02,\n",
       "         5.80509933e-02,   4.73546841e-02,   4.50780914e-02,\n",
       "         3.89919702e-02,   9.11484957e-02,   9.92363120e-02,\n",
       "         2.11107881e-02,   2.31051289e-02,   5.79727605e-02,\n",
       "         7.45586147e-02,   1.14316900e-01,   7.40281731e-02,\n",
       "         1.04389286e-01,   1.84148326e-02,   3.73815132e-01,\n",
       "         2.95363122e-01,   4.38909199e-02,   8.41980490e-02,\n",
       "         9.94148845e-02,   2.31816579e-02,   3.25184684e-01,\n",
       "         7.55731277e-02,   1.07877467e-01,   1.50217477e-02,\n",
       "         6.30821735e-02,   2.10042272e-02,   1.14856379e-01,\n",
       "         1.63533544e-01,   2.25161019e-02,   3.00320317e-01,\n",
       "         6.38424020e-02,   3.00788116e-02,   1.57992238e-01,\n",
       "         6.67868181e-02,   3.95420836e-02,   7.60965537e-02,\n",
       "         9.11999520e-02,   1.32062900e-01,   2.09587756e-02,\n",
       "         8.42118673e-02,   1.27749409e-01,   2.67306347e-03,\n",
       "         4.82642163e-02,   3.74269323e-02,   3.97725888e-02,\n",
       "         7.48604805e-02,   1.49296709e-02,   1.42057966e-01,\n",
       "         3.14649531e-02,   2.62683720e-01,   1.09442807e-01,\n",
       "         4.86897166e-02,   2.64725090e-02,   2.16615071e-01,\n",
       "         1.43618794e-01,   1.57465757e-01,   7.54723319e-02,\n",
       "         1.52534364e-01,   1.57063533e-01,   2.93554241e-02,\n",
       "         4.72147899e-02,   2.26861168e-03,   9.12871712e-02,\n",
       "         3.00681225e-02,   9.02505268e-02,   2.99190540e-01,\n",
       "         6.86835191e-02,   8.78672882e-02,   6.99692352e-03,\n",
       "         8.11678946e-02,   2.17515378e-01,   8.93509814e-02,\n",
       "         7.70266454e-02,   3.37763044e-02,   6.07923834e-02,\n",
       "         1.98119298e-01,   9.52234053e-02,   9.09028428e-02,\n",
       "         7.10010379e-02,   7.85994188e-02,   2.34026475e-02,\n",
       "         2.77861135e-01,   1.78622585e-01,   1.95692134e-02,\n",
       "         4.31610608e-02,   1.15716004e-01,   8.10872709e-02,\n",
       "         4.72121044e-02,   2.51597211e-02,   4.82457733e-02,\n",
       "         1.19730432e-02,   9.06840254e-02,   2.85227624e-02,\n",
       "         6.50820402e-02,   9.00037011e-02,   3.37016582e-02,\n",
       "         1.13327631e-01,   1.35509174e-01,   1.64722833e-01,\n",
       "         1.58423027e-02,   1.99556774e-02,   2.93735245e-02,\n",
       "         9.96294052e-02,   6.96309366e-02,   1.40144698e-01,\n",
       "         1.20435253e-02,   1.72229209e-02,   2.56909597e-01,\n",
       "         3.44314513e-01,   1.48094296e-02,   1.22147865e-01,\n",
       "         1.44502561e-02,   2.95824360e-02,   1.40436530e-01,\n",
       "         7.51055089e-02,   6.71254487e-02,   5.31239471e-02,\n",
       "         3.23729457e-02,   2.80322779e-02,   1.84275222e-02,\n",
       "         1.33615249e-02,   4.04678655e-02,   1.01016234e-01,\n",
       "         8.33821837e-02,   1.00666945e-01,   2.32029037e-02,\n",
       "         8.78667716e-02,   7.20505315e-02,   1.48637304e-02,\n",
       "         9.90740793e-02,   7.49347795e-02,   1.27304334e-01,\n",
       "         1.59782981e-01,   7.37888771e-02,   3.91553645e-02,\n",
       "         2.13008764e-03,   1.49016860e-01,   7.23612453e-02,\n",
       "         9.54643875e-02,   5.73257294e-02,   1.96734963e-02,\n",
       "         3.23450538e-02,   1.91314920e-01,   3.85522906e-02,\n",
       "         5.75750683e-02,   2.87582932e-02,   1.17240559e-02,\n",
       "         4.54172500e-02,   1.65672553e-01,   6.92106325e-02,\n",
       "         2.93408918e-02,   8.94207898e-02,   7.35558275e-02,\n",
       "         1.26349953e-01,   2.18278147e-01,   2.40027895e-02,\n",
       "         5.15239704e-02,   5.67229714e-02,   1.83351051e-01,\n",
       "         1.27725730e-01,   9.70060212e-02,   2.48730195e-02,\n",
       "         5.46513836e-02,   1.54378282e-02,   1.37187477e-02,\n",
       "         2.49564572e-01,   4.47885474e-02,   1.14172715e-02,\n",
       "         1.25547022e-01,   2.71900384e-02,   1.79568299e-01,\n",
       "         3.05788041e-02,   4.70798781e-02,   3.65709850e-02,\n",
       "         5.62396020e-01,   7.64190889e-02,   1.40704100e-02,\n",
       "         2.80175921e-01,   2.85187779e-02,   4.76318628e-02,\n",
       "         1.57902818e-02,   6.64291136e-02,   5.75319740e-02,\n",
       "         2.43200189e-02,   1.84966731e-01,   3.84596618e-02,\n",
       "         5.02077936e-02,   8.85505244e-03,   2.97197744e-02,\n",
       "         9.40556771e-02,   3.05487992e-02,   6.37125658e-02,\n",
       "         1.29286138e-01,   6.91302087e-02,   9.60640500e-02,\n",
       "         7.13238399e-03,   9.87258056e-02,   6.36779540e-03,\n",
       "         7.87043048e-02,   3.23934294e-02,   1.57639952e-01,\n",
       "         8.46380099e-03,   3.24151254e-01,   3.40903511e-01,\n",
       "         2.14462173e-02,   4.77562130e-02,   6.57764571e-02,\n",
       "         3.36032885e-03,   7.53692138e-02,   9.05556894e-02,\n",
       "         6.02596590e-02,   5.46153939e-01,   2.58150984e-02,\n",
       "         1.56550713e-02,   8.84234777e-02,   8.59271308e-02,\n",
       "         9.77725531e-02,   2.28408582e-01,   6.48527871e-02,\n",
       "         2.38855764e-02,   2.87058281e-02,   1.71500372e-02,\n",
       "         5.52638102e-02,   6.28336769e-01,   2.14244517e-01,\n",
       "         2.53475985e-02,   7.02658876e-02,   3.46715601e-01,\n",
       "         3.47277024e-02,   2.35449856e-01,   4.79119685e-02,\n",
       "         3.25730750e-01,   1.19288586e-01,   9.72621601e-03,\n",
       "         1.41583132e-01,   1.53587155e-02,   1.95014127e-01,\n",
       "         2.40107812e-02,   7.96786854e-02,   2.37212837e-02,\n",
       "         1.36070028e-02,   5.60663874e-02,   1.58331457e-01,\n",
       "         1.37688806e-02,   1.76594283e-02,   1.14350015e-01,\n",
       "         3.24525323e-02,   1.33968383e-02,   1.95995313e-02,\n",
       "         6.34763352e-02,   4.87182057e-02,   4.42431827e-02,\n",
       "         9.82318043e-02,   3.91838133e-02,   1.21801687e-01,\n",
       "         1.14068403e-01,   1.25413318e-01,   5.85961795e-02,\n",
       "         7.00374036e-02,   1.21918692e-01,   4.08065697e-02,\n",
       "         3.04738471e-01,   1.94162723e-02,   4.74161665e-02,\n",
       "         5.39253648e-01,   1.34281156e-01,   2.37758564e-02,\n",
       "         6.16960958e-02,   8.43617427e-02,   4.53194386e-02,\n",
       "         4.10448698e-02,   1.66836010e-02,   9.67400795e-02,\n",
       "         2.18198419e-01,   7.88851830e-02,   1.01562678e-02,\n",
       "         7.67421869e-02,   3.25386866e-02,   3.26739439e-02,\n",
       "         4.16750729e-01,   9.81929745e-03,   1.00786435e-01,\n",
       "         9.03764668e-02,   5.55995899e-02,   3.98481348e-02,\n",
       "         7.64066467e-02,   8.49557001e-02,   1.14889827e-01,\n",
       "         4.56816088e-02,   6.58331773e-02,   4.16465325e-02,\n",
       "         1.20940963e-01,   6.38941917e-02,   9.51091104e-02,\n",
       "         2.75660780e-02,   3.21943159e-02,   1.32090369e-02,\n",
       "         4.80099846e-02,   1.07136218e-01,   6.98171995e-02,\n",
       "         9.63216819e-02,   8.24424505e-02,   5.35293880e-02,\n",
       "         5.66408377e-02,   3.32109807e-01,   6.27116183e-02,\n",
       "         2.12949726e-01,   1.53014423e-01,   8.62150440e-02,\n",
       "         1.26253609e-01,   3.83634664e-02,   1.16102513e-01,\n",
       "         1.76038433e-01,   1.44530208e-01,   1.42477545e-01,\n",
       "         6.23168434e-02,   1.24137260e-02,   2.62564844e-02,\n",
       "         3.85826201e-02,   1.12081870e-02,   8.19383704e-02,\n",
       "         9.14119277e-02,   6.96706396e-02,   6.36343425e-02,\n",
       "         1.09543626e-01,   9.64401279e-02,   9.75787844e-03,\n",
       "         1.12586265e-01,   1.76159186e-02,   3.45236138e-02,\n",
       "         5.02291083e-02,   5.64677920e-03,   8.83179956e-02,\n",
       "         2.49284322e-01,   7.70092067e-02,   1.16967255e-01,\n",
       "         3.20049942e-02,   3.52938540e-02,   3.76845901e-02,\n",
       "         8.96395349e-03,   4.29439078e-03,   6.04500021e-02,\n",
       "         8.43807909e-02,   5.25697751e-02,   8.46373486e-02,\n",
       "         3.15800638e-02,   6.98395632e-02,   3.65543731e-01,\n",
       "         4.97743063e-02,   3.18400595e-02,   1.50834068e-02,\n",
       "         3.04334824e-02,   4.82642526e-02,   5.98583872e-02,\n",
       "         6.29686121e-03,   6.40047611e-02,   1.57349399e-02,\n",
       "         5.89297132e-03,   8.04811884e-02,   2.42932407e-02,\n",
       "         6.31830023e-03,   1.42440053e-01,   3.56547125e-04,\n",
       "         4.31673293e-01,   3.73141092e-02,   5.79379458e-02,\n",
       "         6.64599860e-02,   6.07963552e-02,   4.06349395e-02,\n",
       "         2.92207874e-02,   1.76298981e-02,   1.70028893e-01,\n",
       "         4.33871174e-02,   3.79174895e-02,   6.01662980e-02,\n",
       "         1.37337707e-03,   1.39640199e-02,   6.11861462e-02,\n",
       "         1.30524706e-02,   1.94990954e-02,   1.53108058e-02,\n",
       "         5.27591132e-02,   5.32401130e-01,   2.88512558e-02,\n",
       "         4.17547865e-02,   1.83608811e-01,   7.64689382e-02,\n",
       "         5.26181186e-02,   5.37752755e-02,   1.58085939e-01,\n",
       "         1.36155829e-01,   1.08678245e-01,   2.62947580e-02,\n",
       "         1.31626657e-02,   2.11508745e-01,   8.21255988e-03,\n",
       "         1.80439478e-01,   1.31165570e-01,   2.24465536e-01,\n",
       "         1.36709384e-01,   1.19165033e-01,   8.08682704e-02,\n",
       "         1.42439775e-01,   1.90400784e-02,   6.47432318e-02,\n",
       "         6.34025823e-02,   2.96508982e-02,   7.85578971e-02,\n",
       "         1.63847373e-01,   1.88083840e-01,   1.22047138e-02,\n",
       "         6.57161574e-02,   1.57001278e-02,   2.42244679e-02,\n",
       "         1.16886114e-01,   2.16246001e-02,   5.22983091e-02,\n",
       "         5.61184063e-02,   1.20401889e-01,   7.60704253e-02,\n",
       "         2.24541290e-01,   1.44372812e-01,   3.10073279e-01,\n",
       "         5.95682440e-02,   3.62151248e-02,   4.44734714e-02,\n",
       "         1.26174756e-01,   4.48901704e-02,   1.12379078e-01,\n",
       "         1.46875422e-01,   4.86098513e-02,   1.85200964e-01,\n",
       "         1.26059227e-01,   2.55899010e-02,   1.83100517e-02,\n",
       "         1.25069685e-02,   4.27764550e-02,   6.40251641e-02,\n",
       "         1.15586092e-02,   1.24905322e-01,   9.73188861e-02,\n",
       "         7.48663483e-02,   2.34040615e-02,   2.37915082e-02,\n",
       "         6.34526816e-02,   1.21543052e-01,   1.51469926e-01,\n",
       "         3.63940012e-02,   1.65180128e-02,   3.53153942e-02,\n",
       "         2.27219248e-02,   3.23786327e-02,   1.45939345e-02,\n",
       "         1.64545631e-02,   4.08288964e-02,   1.46623995e-01,\n",
       "         3.10831200e-02,   8.64042177e-02,   2.94080162e-01,\n",
       "         1.20939122e-01,   7.78365667e-02,   9.99132773e-02,\n",
       "         1.53781611e-02,   1.25350521e-02,   3.39828639e-01,\n",
       "         2.21221606e-02,   1.16273360e-01,   2.35869255e-02,\n",
       "         5.74179512e-01,   1.71260390e-01,   4.05468292e-02,\n",
       "         1.26383731e-01,   3.14833127e-02,   3.11712980e-02,\n",
       "         3.31422366e-01,   4.71337301e-02,   1.76614601e-01,\n",
       "         1.01879651e-01,   2.94592692e-02,   6.94861870e-02,\n",
       "         1.58378167e-01,   3.59120251e-02,   7.81152942e-02,\n",
       "         3.15985336e-02,   2.63899777e-02,   1.20583231e-01,\n",
       "         8.74388336e-02,   2.05513546e-02,   1.35041668e-01,\n",
       "         1.16917032e-01,   9.71156656e-02,   7.46604240e-02])"
      ]
     },
     "execution_count": 27,
     "metadata": {},
     "output_type": "execute_result"
    }
   ],
   "source": [
    "# calculate predicted probabilities for X_test_dtm (well calibrated)\n",
    "y_pred_prob = logreg.predict_proba(X_test_dtm)[:, 1]\n",
    "y_pred_prob"
   ]
  },
  {
   "cell_type": "code",
   "execution_count": 28,
   "metadata": {},
   "outputs": [
    {
     "data": {
      "text/plain": [
       "0.91666666666666663"
      ]
     },
     "execution_count": 28,
     "metadata": {},
     "output_type": "execute_result"
    }
   ],
   "source": [
    "# calculate accuracy\n",
    "metrics.accuracy_score(y_test, y_pred_class)"
   ]
  },
  {
   "cell_type": "code",
   "execution_count": 29,
   "metadata": {},
   "outputs": [
    {
     "data": {
      "text/plain": [
       "0.62858900738310086"
      ]
     },
     "execution_count": 29,
     "metadata": {},
     "output_type": "execute_result"
    }
   ],
   "source": [
    "# calculate AUC\n",
    "metrics.roc_auc_score(y_test, y_pred_prob)"
   ]
  },
  {
   "cell_type": "code",
   "execution_count": 30,
   "metadata": {},
   "outputs": [],
   "source": [
    "#Over and Under sampling code starts from here:\n",
    "\n",
    "def print_results(headline, true_value, pred):\n",
    "    print(headline)\n",
    "    print(\"accuracy: {}\".format(accuracy_score(true_value, pred)))\n",
    "    print(\"precision: {}\".format(precision_score(true_value, pred)))\n",
    "    print(\"recall: {}\".format(recall_score(true_value, pred)))\n",
    "    print(\"f1: {}\".format(f1_score(true_value, pred)))"
   ]
  },
  {
   "cell_type": "code",
   "execution_count": 31,
   "metadata": {},
   "outputs": [
    {
     "data": {
      "text/plain": [
       "<576x3676 sparse matrix of type '<class 'numpy.int64'>'\n",
       "\twith 4492 stored elements in Compressed Sparse Row format>"
      ]
     },
     "execution_count": 31,
     "metadata": {},
     "output_type": "execute_result"
    }
   ],
   "source": [
    "#classifier to use and splitting data into training and test set\n",
    "from sklearn.model_selection import train_test_split\n",
    "classifier = RandomForestClassifier #classifier to use\n",
    "data = pd.read_csv(\"mozilla.csv\", header=None, names=['Bug ID','Severity','Summary']) #data reading\n",
    "data.head(5)\n",
    "data['severity_num'] = data.Severity.map({'non-severe':0, 'severe':1})\n",
    "data_feature = data.Summary\n",
    "data_target = data.severity_num\n",
    "X_train, X_test, y_train, y_test = train_test_split(data_feature, data_target, random_state=42)\n",
    "X_train=X_train.dropna(how='any',axis=0) \n",
    "y_train = y_train.dropna(how='any',axis=0) #null value dropping from anywhere\n",
    "vect = CountVectorizer() #vectorizing\n",
    "vect.fit(X_train) #train data fitting \n",
    "X_train_dtm = vect.transform(X_train)\n",
    "X_train_dtm\n",
    "X_test_dtm = vect.transform(X_test)\n",
    "X_test_dtm"
   ]
  },
  {
   "cell_type": "code",
   "execution_count": 32,
   "metadata": {},
   "outputs": [
    {
     "name": "stderr",
     "output_type": "stream",
     "text": [
      "D:\\anacondasetup\\lib\\site-packages\\sklearn\\ensemble\\forest.py:248: FutureWarning: The default value of n_estimators will change from 10 in version 0.20 to 100 in 0.22.\n",
      "  \"10 in version 0.20 to 100 in 0.22.\", FutureWarning)\n"
     ]
    }
   ],
   "source": [
    "#building normal model using transformed data\n",
    "import numpy as np\n",
    "pipeline = make_pipeline(classifier(random_state=42, ))\n",
    "X_test = np.random.rand(len(X_train), 1)\n",
    "model = pipeline.fit(X_train_dtm, y_train)\n",
    "prediction = model.predict(X_test_dtm)"
   ]
  },
  {
   "cell_type": "code",
   "execution_count": 33,
   "metadata": {},
   "outputs": [
    {
     "name": "stderr",
     "output_type": "stream",
     "text": [
      "D:\\anacondasetup\\lib\\site-packages\\sklearn\\ensemble\\forest.py:248: FutureWarning: The default value of n_estimators will change from 10 in version 0.20 to 100 in 0.22.\n",
      "  \"10 in version 0.20 to 100 in 0.22.\", FutureWarning)\n"
     ]
    }
   ],
   "source": [
    "#building and fitting data inside the model with Oversampling (SMOTE) imblearn\n",
    "smote_pipeline = make_pipeline_imb(SMOTE(random_state=42), classifier(random_state=42))\n",
    "smote_model = smote_pipeline.fit(X_train_dtm, y_train)\n",
    "smote_prediction = smote_model.predict(X_test_dtm)"
   ]
  },
  {
   "cell_type": "code",
   "execution_count": 34,
   "metadata": {},
   "outputs": [
    {
     "name": "stderr",
     "output_type": "stream",
     "text": [
      "D:\\anacondasetup\\lib\\site-packages\\sklearn\\ensemble\\forest.py:248: FutureWarning: The default value of n_estimators will change from 10 in version 0.20 to 100 in 0.22.\n",
      "  \"10 in version 0.20 to 100 in 0.22.\", FutureWarning)\n"
     ]
    }
   ],
   "source": [
    "#building and fitting data inside the model with undersampling (NearMiss)\n",
    "from imblearn.under_sampling import NearMiss\n",
    "nearmiss_pipeline = make_pipeline_imb(NearMiss(random_state=42), classifier(random_state=42))\n",
    "nearmiss_model = nearmiss_pipeline.fit(X_train_dtm, y_train)\n",
    "nearmiss_prediction = nearmiss_model.predict(X_test_dtm)"
   ]
  },
  {
   "cell_type": "code",
   "execution_count": 35,
   "metadata": {},
   "outputs": [
    {
     "name": "stdout",
     "output_type": "stream",
     "text": [
      "\n",
      "normal data distribution: Counter({0: 2077, 1: 224})\n",
      "Smote data distribution: Counter({1: 1555, 0: 1555})\n",
      "Nearmiss data distribution: Counter({0: 170, 1: 170})\n"
     ]
    }
   ],
   "source": [
    "#print information about both models\n",
    "print()\n",
    "data = pd.read_csv(\"mozilla.csv\", header=None, names=['Bug ID','Severity','Summary'])\n",
    "data['severity_num'] = data.Severity.map({'non-severe':0, 'severe':1})\n",
    "data_feature = data.Summary\n",
    "data_target = data.severity_num\n",
    "X_train, X_test, y_train, y_test = train_test_split(data_feature, data_target, random_state=42)\n",
    "X_train=X_train.dropna(how='any',axis=0) \n",
    "y_train = y_train.dropna(how='any',axis=0) \n",
    "vect = CountVectorizer()\n",
    "vect.fit(X_train)\n",
    "X_train_dtm = vect.transform(X_train)\n",
    "X_test_dtm = vect.transform(X_test)\n",
    "print(\"normal data distribution: {}\".format(Counter(data_target)))\n",
    "\n",
    "X_smote, y_smote = SMOTE().fit_sample(X_train_dtm, y_train)\n",
    "print(\"Smote data distribution: {}\".format(Counter(y_smote)))\n",
    "\n",
    "X_nearmiss, y_nearmiss = NearMiss().fit_sample(X_train_dtm, y_train)\n",
    "print(\"Nearmiss data distribution: {}\".format(Counter(y_nearmiss)))"
   ]
  },
  {
   "cell_type": "code",
   "execution_count": 36,
   "metadata": {},
   "outputs": [
    {
     "name": "stdout",
     "output_type": "stream",
     "text": [
      "              precision    recall  f1-score   support\n",
      "\n",
      "           0       0.91      1.00      0.95       522\n",
      "           1       0.00      0.00      0.00        54\n",
      "\n",
      "   micro avg       0.90      0.90      0.90       576\n",
      "   macro avg       0.45      0.50      0.47       576\n",
      "weighted avg       0.82      0.90      0.86       576\n",
      "\n",
      "                   pre       rec       spe        f1       geo       iba       sup\n",
      "\n",
      "          0       0.91      0.77      0.22      0.83      0.41      0.18       522\n",
      "          1       0.09      0.22      0.77      0.13      0.41      0.16        54\n",
      "\n",
      "avg / total       0.83      0.72      0.27      0.77      0.41      0.18       576\n",
      "\n",
      "\n",
      "Normal Pipeline Score 0.9045138888888888\n",
      "SMOTE Pipeline Score 0.7204861111111112\n",
      "NearMiss Pipeline Score 0.6215277777777778\n",
      "\n",
      "Normal classification\n",
      "accuracy: 0.9045138888888888\n",
      "precision: 0.0\n",
      "recall: 0.0\n",
      "f1: 0.0\n",
      "\n",
      "SMOTE classification\n",
      "accuracy: 0.7204861111111112\n",
      "precision: 0.0916030534351145\n",
      "recall: 0.2222222222222222\n",
      "f1: 0.12972972972972974\n",
      "\n",
      "NearMiss classification\n",
      "accuracy: 0.6215277777777778\n",
      "precision: 0.12037037037037036\n",
      "recall: 0.48148148148148145\n",
      "f1: 0.19259259259259257\n",
      "\n"
     ]
    }
   ],
   "source": [
    "# Classification report\n",
    "print(classification_report(y_test, prediction))\n",
    "print(classification_report_imbalanced(y_test, smote_prediction))\n",
    "\n",
    "print()\n",
    "print('Normal Pipeline Score {}'.format(pipeline.score(X_test_dtm, y_test)))\n",
    "print('SMOTE Pipeline Score {}'.format(smote_pipeline.score(X_test_dtm, y_test)))\n",
    "print('NearMiss Pipeline Score {}'.format(nearmiss_pipeline.score(X_test_dtm, y_test)))\n",
    "\n",
    "print()\n",
    "print_results(\"Normal classification\", y_test, prediction)\n",
    "print()\n",
    "print_results(\"SMOTE classification\", y_test, smote_prediction)\n",
    "print()\n",
    "print_results(\"NearMiss classification\", y_test, nearmiss_prediction)\n",
    "print()"
   ]
  },
  {
   "cell_type": "code",
   "execution_count": 37,
   "metadata": {},
   "outputs": [
    {
     "name": "stderr",
     "output_type": "stream",
     "text": [
      "D:\\anacondasetup\\lib\\site-packages\\sklearn\\ensemble\\forest.py:248: FutureWarning: The default value of n_estimators will change from 10 in version 0.20 to 100 in 0.22.\n",
      "  \"10 in version 0.20 to 100 in 0.22.\", FutureWarning)\n",
      "D:\\anacondasetup\\lib\\site-packages\\sklearn\\ensemble\\forest.py:248: FutureWarning: The default value of n_estimators will change from 10 in version 0.20 to 100 in 0.22.\n",
      "  \"10 in version 0.20 to 100 in 0.22.\", FutureWarning)\n",
      "D:\\anacondasetup\\lib\\site-packages\\sklearn\\ensemble\\forest.py:248: FutureWarning: The default value of n_estimators will change from 10 in version 0.20 to 100 in 0.22.\n",
      "  \"10 in version 0.20 to 100 in 0.22.\", FutureWarning)\n",
      "D:\\anacondasetup\\lib\\site-packages\\sklearn\\ensemble\\forest.py:248: FutureWarning: The default value of n_estimators will change from 10 in version 0.20 to 100 in 0.22.\n",
      "  \"10 in version 0.20 to 100 in 0.22.\", FutureWarning)\n",
      "D:\\anacondasetup\\lib\\site-packages\\sklearn\\ensemble\\forest.py:248: FutureWarning: The default value of n_estimators will change from 10 in version 0.20 to 100 in 0.22.\n",
      "  \"10 in version 0.20 to 100 in 0.22.\", FutureWarning)\n",
      "D:\\anacondasetup\\lib\\site-packages\\sklearn\\ensemble\\forest.py:248: FutureWarning: The default value of n_estimators will change from 10 in version 0.20 to 100 in 0.22.\n",
      "  \"10 in version 0.20 to 100 in 0.22.\", FutureWarning)\n",
      "D:\\anacondasetup\\lib\\site-packages\\sklearn\\ensemble\\forest.py:248: FutureWarning: The default value of n_estimators will change from 10 in version 0.20 to 100 in 0.22.\n",
      "  \"10 in version 0.20 to 100 in 0.22.\", FutureWarning)\n",
      "D:\\anacondasetup\\lib\\site-packages\\sklearn\\ensemble\\forest.py:248: FutureWarning: The default value of n_estimators will change from 10 in version 0.20 to 100 in 0.22.\n",
      "  \"10 in version 0.20 to 100 in 0.22.\", FutureWarning)\n",
      "D:\\anacondasetup\\lib\\site-packages\\sklearn\\ensemble\\forest.py:248: FutureWarning: The default value of n_estimators will change from 10 in version 0.20 to 100 in 0.22.\n",
      "  \"10 in version 0.20 to 100 in 0.22.\", FutureWarning)\n",
      "D:\\anacondasetup\\lib\\site-packages\\sklearn\\ensemble\\forest.py:248: FutureWarning: The default value of n_estimators will change from 10 in version 0.20 to 100 in 0.22.\n",
      "  \"10 in version 0.20 to 100 in 0.22.\", FutureWarning)\n"
     ]
    },
    {
     "name": "stdout",
     "output_type": "stream",
     "text": [
      "\n",
      "mean of scores 10-fold:\n",
      "accuracy: 0.7293158578653167\n",
      "precision: 0.11595901735610974\n",
      "recall: 0.2681818181818182\n",
      "f1: 0.16154629804915696\n",
      "auc: 0.5236150172291477\n",
      "\n"
     ]
    }
   ],
   "source": [
    "#Normal kfold was unable to read the test data properly.So we use Stratified kfold because, .\n",
    "#Stratified K-Folds cross-validator provides train/test indices to split data in train/test sets.\n",
    "#This cross-validation object is a variation of KFold that returns stratified folds.\n",
    "#The folds are made by preserving the percentage of samples for each class.\n",
    "#https://www.youtube.com/watch?v=p7ij9sCYEbA\n",
    "# CrossValidation\n",
    "from sklearn.model_selection import StratifiedKFold\n",
    "\n",
    "skf = StratifiedKFold(n_splits=10, random_state=2)\n",
    "accuracy = []\n",
    "precision = []\n",
    "recall = []\n",
    "f1 = []\n",
    "auc =[]\n",
    "data = pd.read_csv(\"mozilla.csv\", header=None, names=['Bug ID','Severity','Summary'])\n",
    "data.head(5)\n",
    "data['severity_num'] = data.Severity.map({'non-severe':0, 'severe':1})\n",
    "data_feature = data.Summary\n",
    "data_target = data.severity_num\n",
    "data_feature=data_feature.dropna(how='any',axis=0) \n",
    "data_target = data_target.dropna(how='any',axis=0) \n",
    "vect = CountVectorizer()\n",
    "vect.fit(data_feature)\n",
    "for train, test in skf.split(data_feature, data_target):\n",
    "    \n",
    "    X_train_dtm = vect.transform(data_feature[train])\n",
    "    X_test_dtm = vect.transform(data_feature[test])\n",
    "    pipeline = make_pipeline_imb(SMOTE(), classifier(random_state=2))\n",
    "    model = pipeline.fit(X_train_dtm, data_target[train])\n",
    "    prediction = model.predict(X_test_dtm)\n",
    "    accuracy.append(pipeline.score(X_test_dtm, data_target[test]))\n",
    "    precision.append(precision_score(data_target[test], prediction))\n",
    "    recall.append(recall_score(data_target[test], prediction))\n",
    "    f1.append(f1_score(data_target[test], prediction))\n",
    "    auc.append(roc_auc_score(data_target[test], prediction))\n",
    "    \n",
    "\n",
    "print()\n",
    "print(\"mean of scores 10-fold:\" )\n",
    "print(\"accuracy: {}\".format(np.mean(accuracy)))\n",
    "print(\"precision: {}\".format(np.mean(precision)))\n",
    "print(\"recall: {}\".format(np.mean(recall)))\n",
    "print(\"f1: {}\".format(np.mean(f1)))\n",
    "print(\"auc: {}\".format(np.mean(auc)))\n",
    "print()"
   ]
  }
 ],
 "metadata": {
  "kernelspec": {
   "display_name": "Python 3",
   "language": "python",
   "name": "python3"
  },
  "language_info": {
   "codemirror_mode": {
    "name": "ipython",
    "version": 3
   },
   "file_extension": ".py",
   "mimetype": "text/x-python",
   "name": "python",
   "nbconvert_exporter": "python",
   "pygments_lexer": "ipython3",
   "version": "3.6.4"
  }
 },
 "nbformat": 4,
 "nbformat_minor": 1
}
